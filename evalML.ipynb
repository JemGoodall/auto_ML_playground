{
 "cells": [
  {
   "cell_type": "code",
   "execution_count": 11,
   "metadata": {},
   "outputs": [],
   "source": [
    "import evalml\n",
    "import pandas as pd"
   ]
  },
  {
   "cell_type": "code",
   "execution_count": null,
   "metadata": {},
   "outputs": [
    {
     "name": "stdout",
     "output_type": "stream",
     "text": [
      "         Number of Features\n",
      "Numeric                  30\n",
      "\n",
      "Number of training examples: 569\n",
      "Targets\n",
      "benign       62.74%\n",
      "malignant    37.26%\n",
      "Name: count, dtype: object\n",
      "<class 'pandas.core.frame.DataFrame'>\n"
     ]
    },
    {
     "name": "stderr",
     "output_type": "stream",
     "text": [
      "/Users/jemimagoodall/personal_projects/auto_ML_playground/.venv/lib/python3.9/site-packages/woodwork/type_sys/utils.py:33: UserWarning: Could not infer format, so each element will be parsed individually, falling back to `dateutil`. To ensure parsing is consistent and as-expected, please specify a format.\n",
      "  pd.to_datetime(\n",
      "/Users/jemimagoodall/personal_projects/auto_ML_playground/.venv/lib/python3.9/site-packages/woodwork/type_sys/utils.py:33: UserWarning: Could not infer format, so each element will be parsed individually, falling back to `dateutil`. To ensure parsing is consistent and as-expected, please specify a format.\n",
      "  pd.to_datetime(\n",
      "/Users/jemimagoodall/personal_projects/auto_ML_playground/.venv/lib/python3.9/site-packages/woodwork/type_sys/utils.py:33: UserWarning: Could not infer format, so each element will be parsed individually, falling back to `dateutil`. To ensure parsing is consistent and as-expected, please specify a format.\n",
      "  pd.to_datetime(\n"
     ]
    },
    {
     "data": {
      "text/html": [
       "<div>\n",
       "<style scoped>\n",
       "    .dataframe tbody tr th:only-of-type {\n",
       "        vertical-align: middle;\n",
       "    }\n",
       "\n",
       "    .dataframe tbody tr th {\n",
       "        vertical-align: top;\n",
       "    }\n",
       "\n",
       "    .dataframe thead th {\n",
       "        text-align: right;\n",
       "    }\n",
       "</style>\n",
       "<table border=\"1\" class=\"dataframe\">\n",
       "  <thead>\n",
       "    <tr style=\"text-align: right;\">\n",
       "      <th></th>\n",
       "      <th>mean radius</th>\n",
       "      <th>mean texture</th>\n",
       "      <th>mean perimeter</th>\n",
       "      <th>mean area</th>\n",
       "      <th>mean smoothness</th>\n",
       "      <th>mean compactness</th>\n",
       "      <th>mean concavity</th>\n",
       "      <th>mean concave points</th>\n",
       "      <th>mean symmetry</th>\n",
       "      <th>mean fractal dimension</th>\n",
       "      <th>...</th>\n",
       "      <th>worst radius</th>\n",
       "      <th>worst texture</th>\n",
       "      <th>worst perimeter</th>\n",
       "      <th>worst area</th>\n",
       "      <th>worst smoothness</th>\n",
       "      <th>worst compactness</th>\n",
       "      <th>worst concavity</th>\n",
       "      <th>worst concave points</th>\n",
       "      <th>worst symmetry</th>\n",
       "      <th>worst fractal dimension</th>\n",
       "    </tr>\n",
       "  </thead>\n",
       "  <tbody>\n",
       "    <tr>\n",
       "      <th>381</th>\n",
       "      <td>11.04</td>\n",
       "      <td>14.93</td>\n",
       "      <td>70.67</td>\n",
       "      <td>372.7</td>\n",
       "      <td>0.07987</td>\n",
       "      <td>0.07079</td>\n",
       "      <td>0.03546</td>\n",
       "      <td>0.020740</td>\n",
       "      <td>0.2003</td>\n",
       "      <td>0.06246</td>\n",
       "      <td>...</td>\n",
       "      <td>12.090</td>\n",
       "      <td>20.83</td>\n",
       "      <td>79.73</td>\n",
       "      <td>447.1</td>\n",
       "      <td>0.1095</td>\n",
       "      <td>0.1982</td>\n",
       "      <td>0.15530</td>\n",
       "      <td>0.06754</td>\n",
       "      <td>0.3202</td>\n",
       "      <td>0.07287</td>\n",
       "    </tr>\n",
       "    <tr>\n",
       "      <th>144</th>\n",
       "      <td>10.75</td>\n",
       "      <td>14.97</td>\n",
       "      <td>68.26</td>\n",
       "      <td>355.3</td>\n",
       "      <td>0.07793</td>\n",
       "      <td>0.05139</td>\n",
       "      <td>0.02251</td>\n",
       "      <td>0.007875</td>\n",
       "      <td>0.1399</td>\n",
       "      <td>0.05688</td>\n",
       "      <td>...</td>\n",
       "      <td>11.950</td>\n",
       "      <td>20.72</td>\n",
       "      <td>77.79</td>\n",
       "      <td>441.2</td>\n",
       "      <td>0.1076</td>\n",
       "      <td>0.1223</td>\n",
       "      <td>0.09755</td>\n",
       "      <td>0.03413</td>\n",
       "      <td>0.2300</td>\n",
       "      <td>0.06769</td>\n",
       "    </tr>\n",
       "    <tr>\n",
       "      <th>136</th>\n",
       "      <td>11.71</td>\n",
       "      <td>16.67</td>\n",
       "      <td>74.72</td>\n",
       "      <td>423.6</td>\n",
       "      <td>0.10510</td>\n",
       "      <td>0.06095</td>\n",
       "      <td>0.03592</td>\n",
       "      <td>0.026000</td>\n",
       "      <td>0.1339</td>\n",
       "      <td>0.05945</td>\n",
       "      <td>...</td>\n",
       "      <td>13.330</td>\n",
       "      <td>25.48</td>\n",
       "      <td>86.16</td>\n",
       "      <td>546.7</td>\n",
       "      <td>0.1271</td>\n",
       "      <td>0.1028</td>\n",
       "      <td>0.10460</td>\n",
       "      <td>0.06968</td>\n",
       "      <td>0.1712</td>\n",
       "      <td>0.07343</td>\n",
       "    </tr>\n",
       "    <tr>\n",
       "      <th>116</th>\n",
       "      <td>8.95</td>\n",
       "      <td>15.76</td>\n",
       "      <td>58.74</td>\n",
       "      <td>245.2</td>\n",
       "      <td>0.09462</td>\n",
       "      <td>0.12430</td>\n",
       "      <td>0.09263</td>\n",
       "      <td>0.023080</td>\n",
       "      <td>0.1305</td>\n",
       "      <td>0.07163</td>\n",
       "      <td>...</td>\n",
       "      <td>9.414</td>\n",
       "      <td>17.07</td>\n",
       "      <td>63.34</td>\n",
       "      <td>270.0</td>\n",
       "      <td>0.1179</td>\n",
       "      <td>0.1879</td>\n",
       "      <td>0.15440</td>\n",
       "      <td>0.03846</td>\n",
       "      <td>0.1652</td>\n",
       "      <td>0.07722</td>\n",
       "    </tr>\n",
       "    <tr>\n",
       "      <th>567</th>\n",
       "      <td>20.60</td>\n",
       "      <td>29.33</td>\n",
       "      <td>140.10</td>\n",
       "      <td>1265.0</td>\n",
       "      <td>0.11780</td>\n",
       "      <td>0.27700</td>\n",
       "      <td>0.35140</td>\n",
       "      <td>0.152000</td>\n",
       "      <td>0.2397</td>\n",
       "      <td>0.07016</td>\n",
       "      <td>...</td>\n",
       "      <td>25.740</td>\n",
       "      <td>39.42</td>\n",
       "      <td>184.60</td>\n",
       "      <td>1821.0</td>\n",
       "      <td>0.1650</td>\n",
       "      <td>0.8681</td>\n",
       "      <td>0.93870</td>\n",
       "      <td>0.26500</td>\n",
       "      <td>0.4087</td>\n",
       "      <td>0.12400</td>\n",
       "    </tr>\n",
       "  </tbody>\n",
       "</table>\n",
       "<p>5 rows × 30 columns</p>\n",
       "</div>"
      ],
      "text/plain": [
       "     mean radius  mean texture  mean perimeter  mean area  mean smoothness  \\\n",
       "381        11.04         14.93           70.67      372.7          0.07987   \n",
       "144        10.75         14.97           68.26      355.3          0.07793   \n",
       "136        11.71         16.67           74.72      423.6          0.10510   \n",
       "116         8.95         15.76           58.74      245.2          0.09462   \n",
       "567        20.60         29.33          140.10     1265.0          0.11780   \n",
       "\n",
       "     mean compactness  mean concavity  mean concave points  mean symmetry  \\\n",
       "381           0.07079         0.03546             0.020740         0.2003   \n",
       "144           0.05139         0.02251             0.007875         0.1399   \n",
       "136           0.06095         0.03592             0.026000         0.1339   \n",
       "116           0.12430         0.09263             0.023080         0.1305   \n",
       "567           0.27700         0.35140             0.152000         0.2397   \n",
       "\n",
       "     mean fractal dimension  ...  worst radius  worst texture  \\\n",
       "381                 0.06246  ...        12.090          20.83   \n",
       "144                 0.05688  ...        11.950          20.72   \n",
       "136                 0.05945  ...        13.330          25.48   \n",
       "116                 0.07163  ...         9.414          17.07   \n",
       "567                 0.07016  ...        25.740          39.42   \n",
       "\n",
       "     worst perimeter  worst area  worst smoothness  worst compactness  \\\n",
       "381            79.73       447.1            0.1095             0.1982   \n",
       "144            77.79       441.2            0.1076             0.1223   \n",
       "136            86.16       546.7            0.1271             0.1028   \n",
       "116            63.34       270.0            0.1179             0.1879   \n",
       "567           184.60      1821.0            0.1650             0.8681   \n",
       "\n",
       "     worst concavity  worst concave points  worst symmetry  \\\n",
       "381          0.15530               0.06754          0.3202   \n",
       "144          0.09755               0.03413          0.2300   \n",
       "136          0.10460               0.06968          0.1712   \n",
       "116          0.15440               0.03846          0.1652   \n",
       "567          0.93870               0.26500          0.4087   \n",
       "\n",
       "     worst fractal dimension  \n",
       "381                  0.07287  \n",
       "144                  0.06769  \n",
       "136                  0.07343  \n",
       "116                  0.07722  \n",
       "567                  0.12400  \n",
       "\n",
       "[5 rows x 30 columns]"
      ]
     },
     "execution_count": 16,
     "metadata": {},
     "output_type": "execute_result"
    }
   ],
   "source": [
    "\n",
    "X, y = evalml.demos.load_breast_cancer()\n",
    "X_train, X_test, y_train, y_test = evalml.preprocessing.split_data(X, y, problem_type='binary')\n",
    "X_train.head()"
   ]
  },
  {
   "cell_type": "code",
   "execution_count": null,
   "metadata": {},
   "outputs": [
    {
     "data": {
      "text/plain": [
       "[<evalml.objectives.standard_metrics.MCCBinary at 0x30ff27a30>,\n",
       " <evalml.objectives.standard_metrics.LogLossBinary at 0x30ff279d0>,\n",
       " <evalml.objectives.standard_metrics.Gini at 0x30ff27580>,\n",
       " <evalml.objectives.standard_metrics.AUC at 0x30ff277c0>,\n",
       " <evalml.objectives.standard_metrics.Precision at 0x30ff27e80>,\n",
       " <evalml.objectives.standard_metrics.F1 at 0x30ff27820>,\n",
       " <evalml.objectives.standard_metrics.BalancedAccuracyBinary at 0x30ff27520>,\n",
       " <evalml.objectives.standard_metrics.AccuracyBinary at 0x30ff27640>]"
      ]
     },
     "execution_count": 40,
     "metadata": {},
     "output_type": "execute_result"
    }
   ],
   "source": [
    "# inspect what other problem types there are:\n",
    "evalml.problem_types.ProblemTypes.all_problem_types"
   ]
  },
  {
   "cell_type": "code",
   "execution_count": 41,
   "metadata": {},
   "outputs": [
    {
     "data": {
      "text/plain": [
       "[<evalml.objectives.standard_metrics.MCCBinary at 0x30ff27ca0>,\n",
       " <evalml.objectives.standard_metrics.LogLossBinary at 0x30ff27bb0>,\n",
       " <evalml.objectives.standard_metrics.Gini at 0x30ff27d00>,\n",
       " <evalml.objectives.standard_metrics.AUC at 0x30ff27d60>,\n",
       " <evalml.objectives.standard_metrics.Precision at 0x30ff27fd0>,\n",
       " <evalml.objectives.standard_metrics.F1 at 0x30ff27100>,\n",
       " <evalml.objectives.standard_metrics.BalancedAccuracyBinary at 0x30ff277f0>,\n",
       " <evalml.objectives.standard_metrics.AccuracyBinary at 0x30ff275e0>]"
      ]
     },
     "execution_count": 41,
     "metadata": {},
     "output_type": "execute_result"
    }
   ],
   "source": [
    "evalml.objectives.utils.get_optimization_objectives(problem_type='binary')"
   ]
  },
  {
   "cell_type": "code",
   "execution_count": 42,
   "metadata": {},
   "outputs": [
    {
     "data": {
      "text/plain": [
       "{1: {'Random Forest Classifier w/ Label Encoder + Imputer + RF Classifier Select From Model': 1.351731300354004,\n",
       "  'Total time of batch': 1.466521978378296}}"
      ]
     },
     "execution_count": 42,
     "metadata": {},
     "output_type": "execute_result"
    }
   ],
   "source": [
    "from evalml.automl import AutoMLSearch\n",
    "auto_ml = AutoMLSearch(\n",
    "    X_train=X_train, y_train=y_train, \n",
    "    problem_type='binary', \n",
    "    objective=\"f1\",\n",
    "    additional_objectives=['precision', 'AUC'],\n",
    "    max_batches=1, \n",
    "    optimize_thresholds=True)\n",
    "\n",
    "auto_ml.search()"
   ]
  },
  {
   "cell_type": "code",
   "execution_count": 43,
   "metadata": {},
   "outputs": [
    {
     "name": "stdout",
     "output_type": "stream",
     "text": [
      "Id of top ranking pipeline: 1\n"
     ]
    },
    {
     "data": {
      "text/html": [
       "<div>\n",
       "<style scoped>\n",
       "    .dataframe tbody tr th:only-of-type {\n",
       "        vertical-align: middle;\n",
       "    }\n",
       "\n",
       "    .dataframe tbody tr th {\n",
       "        vertical-align: top;\n",
       "    }\n",
       "\n",
       "    .dataframe thead th {\n",
       "        text-align: right;\n",
       "    }\n",
       "</style>\n",
       "<table border=\"1\" class=\"dataframe\">\n",
       "  <thead>\n",
       "    <tr style=\"text-align: right;\">\n",
       "      <th></th>\n",
       "      <th>id</th>\n",
       "      <th>pipeline_name</th>\n",
       "      <th>search_order</th>\n",
       "      <th>ranking_score</th>\n",
       "      <th>mean_cv_score</th>\n",
       "      <th>standard_deviation_cv_score</th>\n",
       "      <th>percent_better_than_baseline</th>\n",
       "      <th>high_variance_cv</th>\n",
       "      <th>parameters</th>\n",
       "    </tr>\n",
       "  </thead>\n",
       "  <tbody>\n",
       "    <tr>\n",
       "      <th>0</th>\n",
       "      <td>1</td>\n",
       "      <td>Random Forest Classifier w/ Label Encoder + Im...</td>\n",
       "      <td>1</td>\n",
       "      <td>0.927382</td>\n",
       "      <td>0.927382</td>\n",
       "      <td>0.033263</td>\n",
       "      <td>92.738192</td>\n",
       "      <td>False</td>\n",
       "      <td>{'Label Encoder': {'positive_label': None}, 'I...</td>\n",
       "    </tr>\n",
       "    <tr>\n",
       "      <th>1</th>\n",
       "      <td>0</td>\n",
       "      <td>Mode Baseline Binary Classification Pipeline</td>\n",
       "      <td>0</td>\n",
       "      <td>0.000000</td>\n",
       "      <td>0.000000</td>\n",
       "      <td>0.000000</td>\n",
       "      <td>0.000000</td>\n",
       "      <td>False</td>\n",
       "      <td>{'Label Encoder': {'positive_label': None}, 'B...</td>\n",
       "    </tr>\n",
       "  </tbody>\n",
       "</table>\n",
       "</div>"
      ],
      "text/plain": [
       "   id                                      pipeline_name  search_order  \\\n",
       "0   1  Random Forest Classifier w/ Label Encoder + Im...             1   \n",
       "1   0       Mode Baseline Binary Classification Pipeline             0   \n",
       "\n",
       "   ranking_score  mean_cv_score  standard_deviation_cv_score  \\\n",
       "0       0.927382       0.927382                     0.033263   \n",
       "1       0.000000       0.000000                     0.000000   \n",
       "\n",
       "   percent_better_than_baseline  high_variance_cv  \\\n",
       "0                     92.738192             False   \n",
       "1                      0.000000             False   \n",
       "\n",
       "                                          parameters  \n",
       "0  {'Label Encoder': {'positive_label': None}, 'I...  \n",
       "1  {'Label Encoder': {'positive_label': None}, 'B...  "
      ]
     },
     "execution_count": 43,
     "metadata": {},
     "output_type": "execute_result"
    }
   ],
   "source": [
    "top_pipeline_id = auto_ml.rankings.iloc[0]['id']\n",
    "print(f\"Id of top ranking pipeline: {top_pipeline_id}\")\n",
    "auto_ml.rankings"
   ]
  },
  {
   "cell_type": "code",
   "execution_count": 44,
   "metadata": {},
   "outputs": [
    {
     "data": {
      "text/plain": [
       "pipeline = BinaryClassificationPipeline(component_graph={'Label Encoder': ['Label Encoder', 'X', 'y'], 'Imputer': ['Imputer', 'X', 'Label Encoder.y'], 'RF Classifier Select From Model': ['RF Classifier Select From Model', 'Imputer.x', 'Label Encoder.y'], 'Random Forest Classifier': ['Random Forest Classifier', 'RF Classifier Select From Model.x', 'Label Encoder.y']}, parameters={'Label Encoder':{'positive_label': None}, 'Imputer':{'categorical_impute_strategy': 'most_frequent', 'numeric_impute_strategy': 'mean', 'boolean_impute_strategy': 'most_frequent', 'categorical_fill_value': None, 'numeric_fill_value': None, 'boolean_fill_value': None}, 'RF Classifier Select From Model':{'number_features': None, 'n_estimators': 10, 'max_depth': None, 'percent_features': 0.5, 'threshold': 'median', 'n_jobs': -1}, 'Random Forest Classifier':{'n_estimators': 100, 'max_depth': 6, 'n_jobs': -1}}, random_seed=0)"
      ]
     },
     "execution_count": 44,
     "metadata": {},
     "output_type": "execute_result"
    }
   ],
   "source": [
    "best_pipeline = auto_ml.best_pipeline\n",
    "best_pipeline"
   ]
  },
  {
   "cell_type": "code",
   "execution_count": 45,
   "metadata": {},
   "outputs": [
    {
     "name": "stdout",
     "output_type": "stream",
     "text": [
      "\n",
      "*****************************************************************************************\n",
      "* Random Forest Classifier w/ Label Encoder + Imputer + RF Classifier Select From Model *\n",
      "*****************************************************************************************\n",
      "\n",
      "Problem Type: binary\n",
      "Model Family: Random Forest\n",
      "\n",
      "Pipeline Steps\n",
      "==============\n",
      "1. Label Encoder\n",
      "\t * positive_label : None\n",
      "2. Imputer\n",
      "\t * categorical_impute_strategy : most_frequent\n",
      "\t * numeric_impute_strategy : mean\n",
      "\t * boolean_impute_strategy : most_frequent\n",
      "\t * categorical_fill_value : None\n",
      "\t * numeric_fill_value : None\n",
      "\t * boolean_fill_value : None\n",
      "3. RF Classifier Select From Model\n",
      "\t * number_features : None\n",
      "\t * n_estimators : 10\n",
      "\t * max_depth : None\n",
      "\t * percent_features : 0.5\n",
      "\t * threshold : median\n",
      "\t * n_jobs : -1\n",
      "4. Random Forest Classifier\n",
      "\t * n_estimators : 100\n",
      "\t * max_depth : 6\n",
      "\t * n_jobs : -1\n",
      "\n",
      "Training\n",
      "========\n",
      "Training for binary problems.\n",
      "Objective to optimize binary classification pipeline thresholds for: <evalml.objectives.standard_metrics.F1 object at 0x30f82d250>\n",
      "Total training time (including CV): 1.3 seconds\n",
      "\n",
      "Cross Validation\n",
      "----------------\n",
      "               F1  Precision   AUC # Training # Validation\n",
      "0           0.966      0.949 0.996        303          152\n",
      "1           0.904      0.897 0.990        303          152\n",
      "2           0.912      0.897 0.984        304          151\n",
      "mean        0.927      0.914 0.990          -            -\n",
      "std         0.033      0.030 0.006          -            -\n",
      "coef of var 0.036      0.033 0.006          -            -\n"
     ]
    }
   ],
   "source": [
    "auto_ml.describe_pipeline(top_pipeline_id)"
   ]
  },
  {
   "cell_type": "code",
   "execution_count": 46,
   "metadata": {},
   "outputs": [
    {
     "data": {
      "text/plain": [
       "OrderedDict([('F1', 0.9090909090909091),\n",
       "             ('Precision', 0.8695652173913043),\n",
       "             ('Recall', 0.9523809523809523),\n",
       "             ('AUC', 0.9857804232804233)])"
      ]
     },
     "execution_count": 46,
     "metadata": {},
     "output_type": "execute_result"
    }
   ],
   "source": [
    "# Eval best pipeline on test data:\n",
    "best_pipeline.score(X_test, y_test, objectives=['f1', 'precision', 'recall', 'AUC'])"
   ]
  },
  {
   "cell_type": "code",
   "execution_count": 49,
   "metadata": {},
   "outputs": [
    {
     "data": {
      "text/html": [
       "<div>\n",
       "<style scoped>\n",
       "    .dataframe tbody tr th:only-of-type {\n",
       "        vertical-align: middle;\n",
       "    }\n",
       "\n",
       "    .dataframe tbody tr th {\n",
       "        vertical-align: top;\n",
       "    }\n",
       "\n",
       "    .dataframe thead th {\n",
       "        text-align: right;\n",
       "    }\n",
       "</style>\n",
       "<table border=\"1\" class=\"dataframe\">\n",
       "  <thead>\n",
       "    <tr style=\"text-align: right;\">\n",
       "      <th></th>\n",
       "      <th>benign</th>\n",
       "      <th>malignant</th>\n",
       "    </tr>\n",
       "  </thead>\n",
       "  <tbody>\n",
       "    <tr>\n",
       "      <th>477</th>\n",
       "      <td>0.999558</td>\n",
       "      <td>0.000442</td>\n",
       "    </tr>\n",
       "    <tr>\n",
       "      <th>558</th>\n",
       "      <td>0.818316</td>\n",
       "      <td>0.181684</td>\n",
       "    </tr>\n",
       "    <tr>\n",
       "      <th>537</th>\n",
       "      <td>0.859695</td>\n",
       "      <td>0.140305</td>\n",
       "    </tr>\n",
       "    <tr>\n",
       "      <th>322</th>\n",
       "      <td>0.978052</td>\n",
       "      <td>0.021948</td>\n",
       "    </tr>\n",
       "    <tr>\n",
       "      <th>474</th>\n",
       "      <td>0.958361</td>\n",
       "      <td>0.041639</td>\n",
       "    </tr>\n",
       "    <tr>\n",
       "      <th>...</th>\n",
       "      <td>...</td>\n",
       "      <td>...</td>\n",
       "    </tr>\n",
       "    <tr>\n",
       "      <th>364</th>\n",
       "      <td>0.999821</td>\n",
       "      <td>0.000179</td>\n",
       "    </tr>\n",
       "    <tr>\n",
       "      <th>518</th>\n",
       "      <td>0.882032</td>\n",
       "      <td>0.117968</td>\n",
       "    </tr>\n",
       "    <tr>\n",
       "      <th>354</th>\n",
       "      <td>0.990000</td>\n",
       "      <td>0.010000</td>\n",
       "    </tr>\n",
       "    <tr>\n",
       "      <th>23</th>\n",
       "      <td>0.000000</td>\n",
       "      <td>1.000000</td>\n",
       "    </tr>\n",
       "    <tr>\n",
       "      <th>548</th>\n",
       "      <td>0.999878</td>\n",
       "      <td>0.000122</td>\n",
       "    </tr>\n",
       "  </tbody>\n",
       "</table>\n",
       "<p>114 rows × 2 columns</p>\n",
       "</div>"
      ],
      "text/plain": [
       "       benign  malignant\n",
       "477  0.999558   0.000442\n",
       "558  0.818316   0.181684\n",
       "537  0.859695   0.140305\n",
       "322  0.978052   0.021948\n",
       "474  0.958361   0.041639\n",
       "..        ...        ...\n",
       "364  0.999821   0.000179\n",
       "518  0.882032   0.117968\n",
       "354  0.990000   0.010000\n",
       "23   0.000000   1.000000\n",
       "548  0.999878   0.000122\n",
       "\n",
       "[114 rows x 2 columns]"
      ]
     },
     "execution_count": 49,
     "metadata": {},
     "output_type": "execute_result"
    }
   ],
   "source": [
    "# save and load models:\n",
    "best_pipeline.save(\"model.pkl\")\n",
    "loaded_model = auto_ml.load(\"model.pkl\")\n",
    "loaded_model.predict_proba(X_test)"
   ]
  }
 ],
 "metadata": {
  "kernelspec": {
   "display_name": ".venv",
   "language": "python",
   "name": "python3"
  },
  "language_info": {
   "codemirror_mode": {
    "name": "ipython",
    "version": 3
   },
   "file_extension": ".py",
   "mimetype": "text/x-python",
   "name": "python",
   "nbconvert_exporter": "python",
   "pygments_lexer": "ipython3",
   "version": "3.9.6"
  }
 },
 "nbformat": 4,
 "nbformat_minor": 2
}
